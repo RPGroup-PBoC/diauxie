{
 "cells": [
  {
   "cell_type": "code",
   "execution_count": 2,
   "id": "f13fecbe-8dd5-4fd2-9b7b-4308fae8a9e8",
   "metadata": {},
   "outputs": [],
   "source": [
    "using BioSequences, FASTX"
   ]
  },
  {
   "cell_type": "code",
   "execution_count": 14,
   "id": "e43b394d-d41a-4caa-807d-f0638bad2bb4",
   "metadata": {},
   "outputs": [],
   "source": [
    "seq_list = []\n",
    "FASTAReader(open(\"../data/gal1.fasta\")) do reader\n",
    "    for record in reader\n",
    "        push!(seq_list, sequence(record))\n",
    "    end\n",
    "end\n",
    "\n",
    "FASTAReader(open(\"../data/gal2.fasta\")) do reader\n",
    "    for record in reader\n",
    "        push!(seq_list, string(reverse_complement(LongDNA{4}(sequence(record)))))\n",
    "    end\n",
    "end\n",
    "\n"
   ]
  },
  {
   "cell_type": "code",
   "execution_count": 25,
   "id": "3d5b737d-3a13-4a23-bfd6-0d2c87756f00",
   "metadata": {},
   "outputs": [
    {
     "name": "stdout",
     "output_type": "stream",
     "text": [
      "search: \u001b[0m\u001b[1mi\u001b[22m\u001b[0m\u001b[1mn\u001b[22m\u001b[0m\u001b[1ms\u001b[22m\u001b[0m\u001b[1me\u001b[22m\u001b[0m\u001b[1mr\u001b[22m\u001b[0m\u001b[1mt\u001b[22m! \u001b[0m\u001b[1mI\u001b[22m\u001b[0m\u001b[1mn\u001b[22m\u001b[0m\u001b[1ms\u001b[22m\u001b[0m\u001b[1me\u001b[22m\u001b[0m\u001b[1mr\u001b[22m\u001b[0m\u001b[1mt\u001b[22mionSort\n",
      "\n",
      "Couldn't find \u001b[36minsert\u001b[39m\n",
      "Perhaps you meant insert!, isqrt, insorted, index!, invperm, isperm or iszero\n"
     ]
    },
    {
     "data": {
      "text/latex": [
       "No documentation found.\n",
       "\n",
       "Binding \\texttt{insert} does not exist.\n",
       "\n"
      ],
      "text/markdown": [
       "No documentation found.\n",
       "\n",
       "Binding `insert` does not exist.\n"
      ],
      "text/plain": [
       "  No documentation found.\n",
       "\n",
       "  Binding \u001b[36minsert\u001b[39m does not exist."
      ]
     },
     "execution_count": 25,
     "metadata": {},
     "output_type": "execute_result"
    }
   ],
   "source": [
    "?insert"
   ]
  },
  {
   "cell_type": "code",
   "execution_count": 67,
   "id": "a73b15cc-55d2-42d6-b861-03ad292f5f61",
   "metadata": {},
   "outputs": [
    {
     "data": {
      "text/plain": [
       "\"GAAAAATACTTACTAAGGCGTTTTTTATTTGGTGATATTTTTTTCAATATCATGCAGCAAACGGTGCAACATTGCCGTGTCTCGTTGCTCTAAAAGCCCCAGGCGTTGTTGTAACCAGTCGACCAGTTTTATGTCATCTGCCACTGCCAGAGTCGTCAGCAATGTCATGGCTCGTTCGCGTAAAGCTTGCAGTTGATGTTGGTCTGCCGTTGCATCACTTTTCGCCGGTTGTTGTATTAATGTTGCTAATTGATAGCAATAGACCATCA\"\u001b[93m\u001b[1m ⋯ 4638434 bytes ⋯ \u001b[22m\u001b[39m\"TTTCCTGTACGCGTCAGCCCGCACCGTTACCTGTGGTAATGGTGATGGTGGTGGTAATGGTGGTGCTAATGCGTTTCATGGATGTTGTGTACTCTGTAATTTTTATCTGTCTGTGCGCTATGCCTATATTGGTTAAAGTATTTAGTGACCTAAGTCAATAAAATTTTAATTTACTCACGGCAGGTAACCAGTTCAGAAGCTGCTATCAGACACTCTTTTTTTAATCCACACAGAGACATATTGCCCGTTGCAGTCAGAATGAAAAGCT\""
      ]
     },
     "execution_count": 67,
     "metadata": {},
     "output_type": "execute_result"
    }
   ],
   "source": [
    "test_seq1 = join(insert!(collect(seq_list[1]), 1262278, '_'))\n",
    "test_seq2 = join(insert!(collect(seq_list[2]), 4318183, '_'))\n",
    "test_seq2 = join(insert!(collect(test_seq2), 4410092, '_'))"
   ]
  },
  {
   "cell_type": "code",
   "execution_count": 68,
   "id": "ae83b5f7-3dd6-40c2-bdf0-87da1cd9ab12",
   "metadata": {},
   "outputs": [
    {
     "data": {
      "text/plain": [
       "\"TTTTGATGC\""
      ]
     },
     "execution_count": 68,
     "metadata": {},
     "output_type": "execute_result"
    }
   ],
   "source": [
    "test_seq1[4410092:4410100]"
   ]
  },
  {
   "cell_type": "code",
   "execution_count": 69,
   "id": "811b8ad4-69b2-4d15-b156-74b04cb3134f",
   "metadata": {},
   "outputs": [
    {
     "data": {
      "text/plain": [
       "\"_TTTGATGC\""
      ]
     },
     "execution_count": 69,
     "metadata": {},
     "output_type": "execute_result"
    }
   ],
   "source": [
    "test_seq2[4410092:4410100]"
   ]
  },
  {
   "cell_type": "code",
   "execution_count": 70,
   "id": "ecdcabdd-2483-4f8a-a20a-f43c311d0360",
   "metadata": {},
   "outputs": [
    {
     "name": "stdout",
     "output_type": "stream",
     "text": [
      "1262278\n",
      "4318183\n",
      "4410092\n"
     ]
    }
   ],
   "source": [
    "for i in 1:length(test_seq)\n",
    "    if test_seq2[i] != test_seq1[i]\n",
    "        println(i)\n",
    "    end\n",
    "end"
   ]
  },
  {
   "cell_type": "code",
   "execution_count": 18,
   "id": "007a5a79-c4fd-4737-855f-93eff304cdda",
   "metadata": {},
   "outputs": [
    {
     "data": {
      "text/plain": [
       "\"GAAAAATACTTACTAAGGCGTTTTTTATTTGGTGATATTTTTTTCAATATCATGCAGCAAACGGTGCAACATTGCCGTGTCTCGTTGCTCTAAAAGCCCCAGGCGTTGTTGTAACCAGTCGACCAGTTTTATGTCATCTGCCACTGCCAGAGTCGTCAGCAATGTCATGGCTCGTTCGCGTAAAGCTTGCAGTTGATGTTGGTCTGCCGTTGCATCACTTTTCGCCGGTTGTTGTATTAATGTTGCTAATTGATAGCAATAGACCATCA\"\u001b[93m\u001b[1m ⋯ 4638432 bytes ⋯ \u001b[22m\u001b[39m\"TTTCCTGTACGCGTCAGCCCGCACCGTTACCTGTGGTAATGGTGATGGTGGTGGTAATGGTGGTGCTAATGCGTTTCATGGATGTTGTGTACTCTGTAATTTTTATCTGTCTGTGCGCTATGCCTATATTGGTTAAAGTATTTAGTGACCTAAGTCAATAAAATTTTAATTTACTCACGGCAGGTAACCAGTTCAGAAGCTGCTATCAGACACTCTTTTTTTAATCCACACAGAGACATATTGCCCGTTGCAGTCAGAATGAAAAGCT\""
      ]
     },
     "execution_count": 18,
     "metadata": {},
     "output_type": "execute_result"
    }
   ],
   "source": [
    "seq_list[2]"
   ]
  },
  {
   "cell_type": "code",
   "execution_count": 71,
   "id": "7342f25e-5b54-4f8b-9d01-cf837edd54f4",
   "metadata": {},
   "outputs": [
    {
     "data": {
      "text/plain": [
       "\"GAAAAATACTTACTAAGGCGTTTTTTATTTGGTGATATTTTTTTCAATAT\""
      ]
     },
     "execution_count": 71,
     "metadata": {},
     "output_type": "execute_result"
    }
   ],
   "source": [
    "test_seq1[1:50]"
   ]
  },
  {
   "cell_type": "code",
   "execution_count": 73,
   "id": "53bf9c3d-62a9-449b-8a8f-2f44eead8c2e",
   "metadata": {},
   "outputs": [
    {
     "data": {
      "text/plain": [
       "4638971"
      ]
     },
     "execution_count": 73,
     "metadata": {},
     "output_type": "execute_result"
    }
   ],
   "source": [
    "length(test_seq1)"
   ]
  },
  {
   "cell_type": "code",
   "execution_count": null,
   "id": "facc1a53-1606-43c7-ac20-92af999d9903",
   "metadata": {},
   "outputs": [],
   "source": []
  }
 ],
 "metadata": {
  "kernelspec": {
   "display_name": "Julia 1.10.4",
   "language": "julia",
   "name": "julia-1.10"
  },
  "language_info": {
   "file_extension": ".jl",
   "mimetype": "application/julia",
   "name": "julia",
   "version": "1.10.4"
  }
 },
 "nbformat": 4,
 "nbformat_minor": 5
}
